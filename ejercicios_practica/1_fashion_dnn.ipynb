{
  "cells": [
    {
      "cell_type": "markdown",
      "metadata": {
        "id": "67RBrvkUviuj"
      },
      "source": [
        "<a href=\"https://www.inove.com.ar\"><img src=\"https://raw.githubusercontent.com/InoveAlumnos/dataset_analytics_python/master/images/PA%20Banner.png\" width=\"1000\" align=\"center\"></a>\n",
        "\n",
        "\n",
        "# Ejercicio de clasificación con redes neuronales profundas (DNN)\n",
        "\n",
        "Ejemplo de clasificación utilizando redes neuronales para la clasificación de imagenes<br>\n",
        "\n",
        "v1.1"
      ]
    },
    {
      "cell_type": "code",
      "execution_count": null,
      "metadata": {
        "id": "y2sSeyEovSw-"
      },
      "outputs": [],
      "source": [
        "import os\n",
        "import platform\n",
        "\n",
        "import numpy as np\n",
        "import matplotlib.pyplot as plt\n",
        "import seaborn as sns\n",
        "import pandas as pd\n",
        "\n",
        "import keras\n",
        "from keras.models import Sequential\n",
        "#from keras.utils import to_categorical\n",
        "from keras.utils.np_utils import to_categorical # Si esto no funciona, probar con el import anterior"
      ]
    },
    {
      "cell_type": "markdown",
      "metadata": {
        "id": "7Szo7P_3v00C"
      },
      "source": [
        "# Recolectar datos\n",
        "<img src=\"https://raw.githubusercontent.com/InoveAlumnos/dataset_analytics_python/master/images/Pipeline1.png\" width=\"1000\" align=\"middle\">"
      ]
    },
    {
      "cell_type": "code",
      "execution_count": null,
      "metadata": {
        "id": "HnVpNGuAvyFi"
      },
      "outputs": [],
      "source": [
        "from keras.datasets import fashion_mnist\n",
        "\n",
        "# Leer el dataset de mnist\n",
        "(data_X_train, data_y_train), (data_X_test, data_y_test) = fashion_mnist.load_data()"
      ]
    },
    {
      "cell_type": "markdown",
      "metadata": {
        "id": "BbNSgxdfw0ix"
      },
      "source": [
        "### `Fashion MNIST dataset`:\n",
        "El dataset **`Fashion MNIST`** contiene 70.000 imagenes de categorías de ropa (remeras, zapatillas, pantalones). Cada imagen es de 28x28 píxeles en escala de grises (1 canal o 1 nivel de profundidad). Es uno de los dataset más utilizados para poner a prueba algoritmos de clasificación de imagenes.<br> [Dataset source](https://keras.io/api/datasets/fashion_mnist/)\n",
        "- La entrada (X) es una variable imagen de 28x28\n",
        "- La salida (y) es el la posible categoría de ropa que pertenece la imagen:\n",
        "\n",
        "    - 0 -> T-shirt/top (remera de manga corta)\n",
        "    - 1\t-> Trouser (pantalón)\n",
        "    - 2\t-> Pullover (pulover)\n",
        "    - 3\t-> Dress (vestido)\n",
        "    - 4\t-> Coat (saco)\n",
        "    - 5\t-> Sandal (sandalia)\n",
        "    - 6\t-> Shirt (remera de manga larga)\n",
        "    - 7\t-> Sneaker (zapatilla)\n",
        "    - 8\t-> Bag (bolso)\n",
        "    - 9\t-> Ankle boot (bota)\n"
      ]
    },
    {
      "cell_type": "code",
      "execution_count": null,
      "metadata": {
        "id": "GEnP1fd7_S6x"
      },
      "outputs": [],
      "source": [
        "category_list = [\"remera_corta\", \"pantalon\", \"pulover\", \"vestido\", \"saco\", \"sandal\",\n",
        "                 \"remera_larga\", \"zapatilla\", \"bolso\", \"bota\"]"
      ]
    },
    {
      "cell_type": "code",
      "execution_count": null,
      "metadata": {
        "id": "rGbCJanFR8oL"
      },
      "outputs": [],
      "source": [
        "# Visualizar las 100 primeras imagenes\n",
        "fig = plt.figure(figsize=(16,9))\n",
        "for i in range(100):\n",
        "    ax = fig.add_subplot(10, 10, i+1)\n",
        "    ax.axis('off')\n",
        "    plt.imshow(data_X_train[i], cmap='Greys')\n",
        "plt.show()"
      ]
    },
    {
      "cell_type": "code",
      "execution_count": null,
      "metadata": {
        "id": "1u7UhhVKR2qu"
      },
      "outputs": [],
      "source": [
        "# Alumno, dibuje la primera imagen y su correspondiente categoria\n",
        "plt.imshow(data_X_train[0], cmap='gray')\n",
        "plt.title(\"Categoria: \" + category_list[data_y_train[0]])\n",
        "plt.show()"
      ]
    },
    {
      "cell_type": "markdown",
      "metadata": {
        "id": "NHHsGe1Qypde"
      },
      "source": [
        "# Procesar datos\n",
        "<img src=\"https://raw.githubusercontent.com/InoveAlumnos/dataset_analytics_python/master/images/Pipeline2.png\" width=\"1000\" align=\"middle\">"
      ]
    },
    {
      "cell_type": "code",
      "execution_count": null,
      "metadata": {
        "id": "uvzaKBMbyoiy"
      },
      "outputs": [],
      "source": [
        "# Alumno: Observar como está representada la imagen, ver fila del medio (14)\n",
        "print(data_X_train[0][14, :])"
      ]
    },
    {
      "cell_type": "code",
      "execution_count": null,
      "metadata": {
        "id": "Cw9HbE88y3wu"
      },
      "outputs": [],
      "source": [
        "# Alumno: Normalizar los datos entre 0 y 1\n",
        "X_train_norm = data_X_train / 255\n",
        "X_test_norm = data_X_test / 255"
      ]
    },
    {
      "cell_type": "code",
      "execution_count": null,
      "metadata": {
        "id": "LirgXKpiy8dr"
      },
      "outputs": [],
      "source": [
        "# Alumno: Imprimir la cantidad de datos en observacion (cantidad de imagenes)\n",
        "print('Cantidad de datos en observacion:', X_train_norm.shape[0])"
      ]
    },
    {
      "cell_type": "code",
      "execution_count": null,
      "metadata": {
        "id": "N-HTzboa4q-5"
      },
      "outputs": [],
      "source": [
        "# Alumno: Imprimir la dimension de la imagen\n",
        "print('Tamaño de la imagen:', X_train_norm[0].shape)"
      ]
    },
    {
      "cell_type": "markdown",
      "metadata": {
        "id": "0BnzYdlRzBxz"
      },
      "source": [
        "# Explorar datos\n",
        "<img src=\"https://raw.githubusercontent.com/InoveAlumnos/dataset_analytics_python/master/images/Pipeline3.png\" width=\"1000\" align=\"middle\">"
      ]
    },
    {
      "cell_type": "code",
      "execution_count": null,
      "metadata": {
        "id": "X2w_eW5QI-hf"
      },
      "outputs": [],
      "source": [
        "# Alumno: Explorar los primeros diez puloveres del dataset de train\n",
        "fig = plt.figure(figsize=(16,9))\n",
        "j = 0\n",
        "\n",
        "for i in range(10):\n",
        "    ax = fig.add_subplot(1, 10, i+1)\n",
        "    ax.axis('off')\n",
        "    while True:\n",
        "        if category_list[data_y_train[j]] == \"pulover\":\n",
        "            ax.imshow(X_train_norm[j], cmap='Greys')\n",
        "            j += 1\n",
        "            break\n",
        "        j += 1\n",
        "plt.show()"
      ]
    },
    {
      "cell_type": "code",
      "execution_count": null,
      "metadata": {
        "id": "pvDJ8sx85JAH"
      },
      "outputs": [],
      "source": [
        "# Alumno: Explorar los primeros diez sacos del dataset de train\n",
        "fig = plt.figure(figsize=(16,9))\n",
        "j = 0\n",
        "\n",
        "for i in range(10):\n",
        "    ax = fig.add_subplot(1, 10, i+1)\n",
        "    ax.axis('off')\n",
        "    while True:\n",
        "        if category_list[data_y_train[j]] == \"saco\":\n",
        "            ax.imshow(X_train_norm[j], cmap='Greys')\n",
        "            j += 1\n",
        "            break\n",
        "        j += 1\n",
        "plt.show()"
      ]
    },
    {
      "cell_type": "markdown",
      "metadata": {
        "id": "QU0jmwKbEMOC"
      },
      "source": [
        "Se puede ver que los puloveres y los sacos son muy similares, salvo que los sacos tiene botones o cierre"
      ]
    },
    {
      "cell_type": "markdown",
      "metadata": {
        "id": "VUs6mDw67LAQ"
      },
      "source": [
        "#### Transformar los imagenes de 28x28 (2 dimensiones) en un array de una dimensión (28x28 = 784)\n",
        "Esto se realiza porque las redes neuronales no soportan que se ingrese un array de dos dimensiones, solo soportan ingresar \"N\" features (un array)"
      ]
    },
    {
      "cell_type": "code",
      "execution_count": null,
      "metadata": {
        "id": "9aODNf0SoPyK"
      },
      "outputs": [],
      "source": [
        "# Alumno: Transformar el espacio de variable 28x28 a un vector de 784\n",
        "# proceso de flatten --> transformar las imagenes en un vector de 1 dimension\n",
        "num_pixels = X_train_norm.shape[1] * X_train_norm.shape[2]\n",
        "\n",
        "X_train = X_train_norm.reshape(X_train_norm.shape[0], num_pixels).astype('float32')\n",
        "X_test = X_test_norm.reshape(X_test_norm.shape[0], num_pixels).astype('float32')"
      ]
    },
    {
      "cell_type": "code",
      "execution_count": null,
      "metadata": {
        "id": "oZ8aVPG07xqF"
      },
      "outputs": [],
      "source": [
        "# Alumno: ¿Cómo se ve ahora nuestra primera imagen?\n",
        "fig = plt.figure()\n",
        "ax = fig.add_subplot()\n",
        "ax.imshow(X_train[0].reshape(-1,1).T, cmap='gray')\n",
        "ax.set_xscale(\"log\")\n",
        "plt.title(\"Categoría: \" + category_list[data_y_train[0]])\n",
        "plt.show()"
      ]
    },
    {
      "cell_type": "code",
      "execution_count": null,
      "metadata": {
        "id": "AOnLxPyC8PtG"
      },
      "outputs": [],
      "source": [
        "print('Datos en observacion:', X_train.shape)"
      ]
    },
    {
      "cell_type": "markdown",
      "metadata": {
        "id": "HQOAyB-M8W_P"
      },
      "source": [
        "Son 60000 vectores, cada vector representa lo mismo que una fila de un dataset. Cada fila o vector tiene 784 columnas"
      ]
    },
    {
      "cell_type": "code",
      "execution_count": null,
      "metadata": {
        "id": "q3lQU6J_8Hd8"
      },
      "outputs": [],
      "source": [
        "print('Dimensión de cada imagen faltten:', X_train[0].shape)"
      ]
    },
    {
      "cell_type": "markdown",
      "metadata": {
        "id": "7z_SuZlj3gbQ"
      },
      "source": [
        "# Entrenar modelo\n",
        "<img src=\"https://raw.githubusercontent.com/InoveAlumnos/dataset_analytics_python/master/images/Pipeline4.png\" width=\"1000\" align=\"middle\">"
      ]
    },
    {
      "cell_type": "markdown",
      "metadata": {
        "id": "ntY84fHj3q5q"
      },
      "source": [
        "Los datos ya estan dividios en train y test"
      ]
    },
    {
      "cell_type": "code",
      "execution_count": null,
      "metadata": {
        "id": "3vdIz9_r-sMe"
      },
      "outputs": [],
      "source": [
        "# Alumno: Transformar la salida a oneHotEncoding con to_categorical\n",
        "# tanto para data_y_train como para data_y_test\n",
        "y_train = to_categorical(data_y_train)\n",
        "y_test = to_categorical(data_y_test)\n",
        "y_train[:10]"
      ]
    },
    {
      "cell_type": "code",
      "execution_count": null,
      "metadata": {
        "id": "5Wb3oMvn-mIF"
      },
      "outputs": [],
      "source": [
        "# input shape\n",
        "in_shape = X_train.shape[1]\n",
        "in_shape"
      ]
    },
    {
      "cell_type": "code",
      "execution_count": null,
      "metadata": {
        "id": "wpYcXh1g_N3Q"
      },
      "outputs": [],
      "source": [
        "# output shape\n",
        "out_shape = y_train.shape[1]\n",
        "out_shape"
      ]
    },
    {
      "cell_type": "code",
      "execution_count": null,
      "metadata": {
        "id": "fu1u9JhXq9Dy"
      },
      "outputs": [],
      "source": [
        "from keras.layers import Dense, Dropout\n",
        "\n",
        "# Alumno, crear un modelo con la cantidad de capas ocultas que crea\n",
        "# mejor sin regularizacion\n",
        "model = Sequential()\n",
        "\n",
        "model.add(Dense(units=128, activation='relu', input_shape=(in_shape,)))\n",
        "model.add(Dense(units=64, activation='relu'))\n",
        "model.add(Dense(units=64, activation='relu'))\n",
        "model.add(Dense(units=64, activation='relu'))\n",
        "model.add(Dense(units=out_shape, activation='softmax'))\n",
        "\n",
        "model.compile(optimizer=\"Adam\",\n",
        "              loss='categorical_crossentropy',\n",
        "              metrics=['accuracy'])\n",
        "\n",
        "model.summary()"
      ]
    },
    {
      "cell_type": "code",
      "execution_count": null,
      "metadata": {
        "id": "J_89g3dSm2wf"
      },
      "outputs": [],
      "source": [
        "history = model.fit(X_train, y_train, validation_split=0.2 , epochs=10, batch_size=128)"
      ]
    },
    {
      "cell_type": "code",
      "execution_count": null,
      "metadata": {
        "id": "xDuagYJHvNlm"
      },
      "outputs": [],
      "source": [
        "epoch_count = range(1, len(history.history['accuracy']) + 1)\n",
        "sns.lineplot(x=epoch_count,  y=history.history['accuracy'], label='train')\n",
        "sns.lineplot(x=epoch_count,  y=history.history['val_accuracy'], label='valid')\n",
        "plt.show()"
      ]
    },
    {
      "cell_type": "code",
      "execution_count": null,
      "metadata": {
        "id": "8xERthbSjP_L"
      },
      "outputs": [],
      "source": [
        "# Alumno: Tome el modelo anterior y agregue regularización\n",
        "model = Sequential()\n",
        "\n",
        "\n",
        "# Seleccione el dropout_ratev que mejor le funcione\n",
        "dropout_rate = 0.2\n",
        "model.add(Dense(units=128, activation='relu', input_shape=(in_shape,)))\n",
        "model.add(Dense(units=64, activation='relu'))\n",
        "model.add(Dropout(rate=dropout_rate))\n",
        "model.add(Dense(units=64, activation='relu'))\n",
        "model.add(Dropout(rate=dropout_rate))\n",
        "model.add(Dense(units=64, activation='relu'))\n",
        "model.add(Dropout(rate=dropout_rate))\n",
        "model.add(Dense(units=out_shape, activation='softmax'))\n",
        "\n",
        "model.compile(optimizer=\"Adam\",\n",
        "              loss='categorical_crossentropy',\n",
        "              metrics=['accuracy'])\n",
        "\n",
        "model.summary()"
      ]
    },
    {
      "cell_type": "code",
      "execution_count": null,
      "metadata": {
        "id": "arA74ZVjjafe"
      },
      "outputs": [],
      "source": [
        "history = model.fit(X_train, y_train, validation_split=0.2 , epochs=10, batch_size=128)"
      ]
    },
    {
      "cell_type": "code",
      "execution_count": null,
      "metadata": {
        "id": "yooziVp2jffZ"
      },
      "outputs": [],
      "source": [
        "epoch_count = range(1, len(history.history['accuracy']) + 1)\n",
        "sns.lineplot(x=epoch_count,  y=history.history['accuracy'], label='train')\n",
        "sns.lineplot(x=epoch_count,  y=history.history['val_accuracy'], label='valid')\n",
        "plt.show()"
      ]
    },
    {
      "cell_type": "code",
      "execution_count": null,
      "metadata": {
        "id": "NL0_TMz7Em4o"
      },
      "outputs": [],
      "source": [
        "# Alumno: Predecir las probabilidades del dataset X_test\n",
        "y_hat_prob = model.predict(X_test)"
      ]
    },
    {
      "cell_type": "code",
      "execution_count": null,
      "metadata": {
        "id": "qxs4EZSBAZoh"
      },
      "outputs": [],
      "source": [
        "# Alumno: Transformar las probabilidades en y_hat usando argmax\n",
        "y_hat = np.argmax(y_hat_prob,axis=1)"
      ]
    },
    {
      "cell_type": "markdown",
      "metadata": {
        "id": "w3IfjUuI4XnD"
      },
      "source": [
        "# Validar modelo\n",
        "<img src=\"https://raw.githubusercontent.com/InoveAlumnos/dataset_analytics_python/master/images/Pipeline5.png\" width=\"1000\" align=\"middle\">"
      ]
    },
    {
      "cell_type": "code",
      "execution_count": null,
      "metadata": {
        "id": "HnXeXHwdyHVx"
      },
      "outputs": [],
      "source": [
        "# Alumno: Utilizar evaluate para calcular la exactitud (accuracy)\n",
        "scores = model.evaluate(X_test, y_test)\n",
        "scores[1]"
      ]
    },
    {
      "cell_type": "code",
      "execution_count": null,
      "metadata": {
        "id": "TeLeYLYz6ZhO"
      },
      "outputs": [],
      "source": [
        "from sklearn.metrics import confusion_matrix, ConfusionMatrixDisplay\n",
        "cm = confusion_matrix(y_test.argmax(axis=1), y_hat)\n",
        "cmd = ConfusionMatrixDisplay(cm, display_labels=list(range(10)))\n",
        "cmd.plot(cmap=plt.cm.Blues)\n",
        "plt.show()"
      ]
    },
    {
      "cell_type": "markdown",
      "metadata": {
        "id": "CFAQbberCIMq"
      },
      "source": [
        "Se puede observar que hay muy malas predicciones en los sacos y vestidos"
      ]
    },
    {
      "cell_type": "markdown",
      "metadata": {
        "id": "9dZxGbjG96jR"
      },
      "source": [
        "# Utilizar modelo\n",
        "<img src=\"https://raw.githubusercontent.com/InoveAlumnos/dataset_analytics_python/master/images/Pipeline6.png\" width=\"1000\" align=\"middle\">"
      ]
    },
    {
      "cell_type": "markdown",
      "metadata": {
        "id": "M6Tc5nBqbow8"
      },
      "source": [
        "Se utiliza el ranking de los peores 10 sacos clasificados para evaluar"
      ]
    },
    {
      "cell_type": "code",
      "execution_count": null,
      "metadata": {
        "id": "SmTam58eC1I5"
      },
      "outputs": [],
      "source": [
        "rank_saco = [4166, 4641, 6513, 324, 9292, 4646, 3290, 5255, 5919, 1329]"
      ]
    },
    {
      "cell_type": "code",
      "execution_count": null,
      "metadata": {
        "id": "Cefy3ktFb6j6"
      },
      "outputs": [],
      "source": [
        "# Alumno: Obtener los vectores para evaluar los sacos indicados\n",
        "# Utilizar como máscara rank_saco\n",
        "X_test_saco = X_test[rank_saco]\n",
        "y_test_saco = y_test[rank_saco]"
      ]
    },
    {
      "cell_type": "code",
      "execution_count": null,
      "metadata": {
        "id": "kB1tr2blcKpB"
      },
      "outputs": [],
      "source": [
        "# Alumno: Calcular la exactitud de los sacos seleccionados\n",
        "score = model.evaluate(X_test_saco, y_test_saco)\n",
        "score[1]"
      ]
    },
    {
      "cell_type": "code",
      "execution_count": null,
      "metadata": {
        "id": "oBfhuPeccbGP"
      },
      "outputs": [],
      "source": [
        "# Alumno: Realizar la prediccion con los X_test de los sacos\n",
        "# y calcular los y_hat de esos sacos (lo que el sistema ve)\n",
        "score = model.evaluate(X_test_saco, y_test_saco)\n",
        "score[1]"
      ]
    },
    {
      "cell_type": "code",
      "execution_count": null,
      "metadata": {
        "id": "yAxkIcGXcpLS"
      },
      "outputs": [],
      "source": [
        "# Alumno: Dibujar las imagenes del dataset X_test correspondiente\n",
        "# a los IDs de los sacos especificados y colocar arriba de cada imagen\n",
        "# lo que el modelo predijo\n",
        "# Utilizar \"category_list\" para transformar el número a la categoría\n",
        "fig = plt.figure(figsize=(16,9))\n",
        "j = 0\n",
        "\n",
        "for i in rank_saco:\n",
        "    ax = fig.add_subplot(1, 10, j+1)\n",
        "    ax.axis('off')\n",
        "    ax.imshow(X_test_norm[i], cmap='Greys')\n",
        "    ax.set_title(category_list[y_hat_saco[j]])\n",
        "    j += 1\n",
        "\n",
        "plt.show()"
      ]
    },
    {
      "cell_type": "markdown",
      "metadata": {
        "id": "h7yzVZcZ9-4m"
      },
      "source": [
        "# Conclusión\n",
        "<img src=\"https://raw.githubusercontent.com/InoveAlumnos/dataset_analytics_python/master/images/Pipeline7.png\" width=\"1000\" align=\"middle\">"
      ]
    },
    {
      "cell_type": "markdown",
      "metadata": {
        "id": "sWAReOgo-B7b"
      },
      "source": [
        "Al utilizar deep larning no es posible diferenciar bien entre los sacos y los puloveres, el modelo es incapaz de ver los botones o los cierres que son la clave para diferenciarlos. Una alternativa es probar con redes más aptas para detección de imagenes (las CNN convolucionales, que veremos más adelante)"
      ]
    }
  ],
  "metadata": {
    "accelerator": "GPU",
    "colab": {
      "provenance": []
    },
    "kernelspec": {
      "display_name": "Python 3",
      "language": "python",
      "name": "python3"
    },
    "language_info": {
      "codemirror_mode": {
        "name": "ipython",
        "version": 3
      },
      "file_extension": ".py",
      "mimetype": "text/x-python",
      "name": "python",
      "nbconvert_exporter": "python",
      "pygments_lexer": "ipython3",
      "version": "3.8.5"
    }
  },
  "nbformat": 4,
  "nbformat_minor": 0
}